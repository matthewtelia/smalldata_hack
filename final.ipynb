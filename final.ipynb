{
 "cells": [
  {
   "cell_type": "code",
   "execution_count": 1,
   "id": "21c7040f-ba61-4a7f-8ca4-90f7f7ff43cd",
   "metadata": {},
   "outputs": [],
   "source": [
    "import numpy as np \n",
    "import pandas as pd \n",
    "import os\n",
    "import cv2\n",
    "import torch"
   ]
  },
  {
   "cell_type": "code",
   "execution_count": 2,
   "id": "75540f22-e4a1-4f8a-b9f2-2f409a5abcd1",
   "metadata": {},
   "outputs": [],
   "source": [
    "path = ''\n",
    "\n",
    "train = pd.read_csv(path + 'train.csv')\n",
    "test = pd.read_csv(path + 'test.csv')\n",
    "submission = pd.read_csv(path + 'sample_submission.csv')"
   ]
  },
  {
   "cell_type": "code",
   "execution_count": 3,
   "id": "b5c9e1c2-c607-4b0b-b2f8-354e502e6666",
   "metadata": {},
   "outputs": [
    {
     "data": {
      "text/html": [
       "<div>\n",
       "<style scoped>\n",
       "    .dataframe tbody tr th:only-of-type {\n",
       "        vertical-align: middle;\n",
       "    }\n",
       "\n",
       "    .dataframe tbody tr th {\n",
       "        vertical-align: top;\n",
       "    }\n",
       "\n",
       "    .dataframe thead th {\n",
       "        text-align: right;\n",
       "    }\n",
       "</style>\n",
       "<table border=\"1\" class=\"dataframe\">\n",
       "  <thead>\n",
       "    <tr style=\"text-align: right;\">\n",
       "      <th></th>\n",
       "      <th>image_id</th>\n",
       "      <th>healthy</th>\n",
       "      <th>multiple_diseases</th>\n",
       "      <th>rust</th>\n",
       "      <th>scab</th>\n",
       "    </tr>\n",
       "  </thead>\n",
       "  <tbody>\n",
       "    <tr>\n",
       "      <th>0</th>\n",
       "      <td>Train_0</td>\n",
       "      <td>0</td>\n",
       "      <td>0</td>\n",
       "      <td>0</td>\n",
       "      <td>1</td>\n",
       "    </tr>\n",
       "    <tr>\n",
       "      <th>1</th>\n",
       "      <td>Train_1</td>\n",
       "      <td>0</td>\n",
       "      <td>1</td>\n",
       "      <td>0</td>\n",
       "      <td>0</td>\n",
       "    </tr>\n",
       "    <tr>\n",
       "      <th>2</th>\n",
       "      <td>Train_2</td>\n",
       "      <td>1</td>\n",
       "      <td>0</td>\n",
       "      <td>0</td>\n",
       "      <td>0</td>\n",
       "    </tr>\n",
       "    <tr>\n",
       "      <th>3</th>\n",
       "      <td>Train_3</td>\n",
       "      <td>0</td>\n",
       "      <td>0</td>\n",
       "      <td>1</td>\n",
       "      <td>0</td>\n",
       "    </tr>\n",
       "    <tr>\n",
       "      <th>4</th>\n",
       "      <td>Train_4</td>\n",
       "      <td>1</td>\n",
       "      <td>0</td>\n",
       "      <td>0</td>\n",
       "      <td>0</td>\n",
       "    </tr>\n",
       "    <tr>\n",
       "      <th>...</th>\n",
       "      <td>...</td>\n",
       "      <td>...</td>\n",
       "      <td>...</td>\n",
       "      <td>...</td>\n",
       "      <td>...</td>\n",
       "    </tr>\n",
       "    <tr>\n",
       "      <th>1816</th>\n",
       "      <td>Train_1816</td>\n",
       "      <td>0</td>\n",
       "      <td>0</td>\n",
       "      <td>0</td>\n",
       "      <td>1</td>\n",
       "    </tr>\n",
       "    <tr>\n",
       "      <th>1817</th>\n",
       "      <td>Train_1817</td>\n",
       "      <td>1</td>\n",
       "      <td>0</td>\n",
       "      <td>0</td>\n",
       "      <td>0</td>\n",
       "    </tr>\n",
       "    <tr>\n",
       "      <th>1818</th>\n",
       "      <td>Train_1818</td>\n",
       "      <td>1</td>\n",
       "      <td>0</td>\n",
       "      <td>0</td>\n",
       "      <td>0</td>\n",
       "    </tr>\n",
       "    <tr>\n",
       "      <th>1819</th>\n",
       "      <td>Train_1819</td>\n",
       "      <td>0</td>\n",
       "      <td>0</td>\n",
       "      <td>1</td>\n",
       "      <td>0</td>\n",
       "    </tr>\n",
       "    <tr>\n",
       "      <th>1820</th>\n",
       "      <td>Train_1820</td>\n",
       "      <td>0</td>\n",
       "      <td>0</td>\n",
       "      <td>0</td>\n",
       "      <td>1</td>\n",
       "    </tr>\n",
       "  </tbody>\n",
       "</table>\n",
       "<p>1821 rows × 5 columns</p>\n",
       "</div>"
      ],
      "text/plain": [
       "        image_id  healthy  multiple_diseases  rust  scab\n",
       "0        Train_0        0                  0     0     1\n",
       "1        Train_1        0                  1     0     0\n",
       "2        Train_2        1                  0     0     0\n",
       "3        Train_3        0                  0     1     0\n",
       "4        Train_4        1                  0     0     0\n",
       "...          ...      ...                ...   ...   ...\n",
       "1816  Train_1816        0                  0     0     1\n",
       "1817  Train_1817        1                  0     0     0\n",
       "1818  Train_1818        1                  0     0     0\n",
       "1819  Train_1819        0                  0     1     0\n",
       "1820  Train_1820        0                  0     0     1\n",
       "\n",
       "[1821 rows x 5 columns]"
      ]
     },
     "execution_count": 3,
     "metadata": {},
     "output_type": "execute_result"
    }
   ],
   "source": [
    "train"
   ]
  },
  {
   "cell_type": "code",
   "execution_count": 4,
   "id": "6f2825e3-7415-4598-b801-7c5271f8aae3",
   "metadata": {},
   "outputs": [
    {
     "data": {
      "text/plain": [
       "device(type='cuda')"
      ]
     },
     "execution_count": 4,
     "metadata": {},
     "output_type": "execute_result"
    }
   ],
   "source": [
    "import torchvision\n",
    "import random\n",
    "import os\n",
    "\n",
    "seed = 50\n",
    "os.environ['PYTHONHASHSEED'] = str(seed)\n",
    "random.seed(seed)\n",
    "np.random.seed(seed)\n",
    "torch.manual_seed(seed)\n",
    "torch.cuda.manual_seed(seed)\n",
    "torch.cuda.manual_seed_all(seed)\n",
    "\n",
    "device = torch.device('cuda' if torch.cuda.is_available() else 'cpu')\n",
    "device"
   ]
  },
  {
   "cell_type": "code",
   "execution_count": 5,
   "id": "63ee1015-2cd5-458a-b9b7-6b10380aee41",
   "metadata": {},
   "outputs": [],
   "source": [
    "from sklearn.model_selection import train_test_split\n",
    "\"\"\"\n",
    "train, valid = train_test_split(train, \n",
    "                                test_size=0.1,\n",
    "                                stratify=train[['healthy', 'multiple_diseases', 'rust', 'scab']],\n",
    "                                random_state=50)\n",
    "\"\"\"\n",
    "train, test2 = train_test_split(train, \n",
    "                                test_size=0.15,\n",
    "                                stratify=train[['healthy', 'multiple_diseases', 'rust', 'scab']],\n",
    "                                random_state=50)\n",
    "train, valid = train_test_split(train, \n",
    "                                test_size=0.15,\n",
    "                                stratify=train[['healthy', 'multiple_diseases', 'rust', 'scab']],\n",
    "                                random_state=50)"
   ]
  },
  {
   "cell_type": "code",
   "execution_count": 6,
   "id": "01d745ba-d1de-4ecc-99e6-e0ee5d7153d2",
   "metadata": {},
   "outputs": [],
   "source": [
    "from torch.utils.data import Dataset\n",
    "\n",
    "class ImageDataset(Dataset):\n",
    "    \n",
    "    def __init__(self, df, img_dir='images/', transform=None, is_test=False):\n",
    "        super().__init__() \n",
    "        self.df = df\n",
    "        self.img_dir = img_dir\n",
    "        self.transform = transform\n",
    "        self.is_test = is_test\n",
    "    \n",
    "    \n",
    "    def __len__(self):\n",
    "        return len(self.df)\n",
    "    \n",
    "    \n",
    "    def __getitem__(self, idx):\n",
    "        img_id = self.df.iloc[idx, 0]             \n",
    "        img_path = self.img_dir + img_id + '.jpg' \n",
    "        image = cv2.imread(img_path)              \n",
    "        image = cv2.cvtColor(image, cv2.COLOR_BGR2RGB) \n",
    "        \n",
    "        if self.transform is not None:\n",
    "            image = self.transform(image=image)['image']\n",
    "        \n",
    "        if self.is_test:\n",
    "            return image \n",
    "        else:\n",
    "            \n",
    "            label = np.argmax(self.df.iloc[idx, 1:5]) \n",
    "            return image, label "
   ]
  },
  {
   "cell_type": "code",
   "execution_count": 7,
   "id": "61738069-7ba5-4c6b-8189-667dd96eea94",
   "metadata": {},
   "outputs": [
    {
     "name": "stderr",
     "output_type": "stream",
     "text": [
      "/home/lee.soomi/.conda/envs/work/lib/python3.8/site-packages/albumentations/core/validation.py:45: UserWarning: This augmenter is very slow. Try to use ``ElasticTransformation`` instead, which is at least 10x faster.\n",
      "  original_init(self, **validated_kwargs)\n"
     ]
    }
   ],
   "source": [
    "import albumentations as A\n",
    "from albumentations.pytorch import ToTensorV2\n",
    "\n",
    "transform_train = A.Compose([\n",
    "    A.Resize(450, 650),      \n",
    "    A.RandomBrightnessContrast(brightness_limit=0.2, \n",
    "                               contrast_limit=0.2, p=0.3),\n",
    "    A.VerticalFlip(p=0.2),    \n",
    "    A.HorizontalFlip(p=0.5),  \n",
    "    A.ShiftScaleRotate(       \n",
    "        shift_limit=0.1,\n",
    "        scale_limit=0.2,\n",
    "        rotate_limit=30, p=0.3),\n",
    "    A.OneOf([A.Emboss(p=1),   \n",
    "             A.Sharpen(p=1),\n",
    "             A.Blur(p=1)], p=0.3),\n",
    "    A.PiecewiseAffine(p=0.3), \n",
    "    A.Normalize(),            \n",
    "    ToTensorV2()              \n",
    "])\n",
    "\n",
    "transform_test = A.Compose([\n",
    "    A.Resize(450, 650), \n",
    "    A.Normalize(),      \n",
    "    ToTensorV2()        \n",
    "])"
   ]
  },
  {
   "cell_type": "code",
   "execution_count": 8,
   "id": "0bd5d59e-81d8-4ec2-82c3-fea58f430aff",
   "metadata": {},
   "outputs": [],
   "source": [
    "img_dir = 'images/'\n",
    "\n",
    "dataset_train = ImageDataset(train, img_dir=img_dir, transform=transform_train)\n",
    "dataset_valid = ImageDataset(valid, img_dir=img_dir, transform=transform_test)"
   ]
  },
  {
   "cell_type": "code",
   "execution_count": 9,
   "id": "2ba20c55-1cf2-417b-86ec-3951f85c9feb",
   "metadata": {},
   "outputs": [],
   "source": [
    "# Multi-Processing\n",
    "def seed_worker(worker_id):\n",
    "    worker_seed = torch.initial_seed() % 2**32\n",
    "    np.random.seed(worker_seed)\n",
    "    random.seed(worker_seed)\n",
    "    \n",
    "g = torch.Generator()\n",
    "g.manual_seed(0)\n",
    "\n",
    "from torch.utils.data import DataLoader\n",
    "\n",
    "batch_size = 4\n",
    "\n",
    "loader_train = DataLoader(dataset_train, batch_size=batch_size, \n",
    "                          shuffle=True, worker_init_fn=seed_worker,\n",
    "                          generator=g, num_workers=2)\n",
    "loader_valid = DataLoader(dataset_valid, batch_size=batch_size, \n",
    "                          shuffle=False, worker_init_fn=seed_worker,\n",
    "                          generator=g, num_workers=2)"
   ]
  },
  {
   "cell_type": "code",
   "execution_count": 21,
   "id": "046a349c-9480-4bb4-bfff-779fcd98f760",
   "metadata": {},
   "outputs": [
    {
     "name": "stderr",
     "output_type": "stream",
     "text": [
      "Downloading: \"https://github.com/lukemelas/EfficientNet-PyTorch/releases/download/1.0/efficientnet-b3-5fb5a3c3.pth\" to /home/lee.soomi/.cache/torch/hub/checkpoints/efficientnet-b3-5fb5a3c3.pth\n"
     ]
    },
    {
     "data": {
      "application/vnd.jupyter.widget-view+json": {
       "model_id": "957eeee07e32405e93378a52cc9cf730",
       "version_major": 2,
       "version_minor": 0
      },
      "text/plain": [
       "  0%|          | 0.00/47.1M [00:00<?, ?B/s]"
      ]
     },
     "metadata": {},
     "output_type": "display_data"
    },
    {
     "name": "stdout",
     "output_type": "stream",
     "text": [
      "Loaded pretrained weights for efficientnet-b3\n"
     ]
    }
   ],
   "source": [
    "from efficientnet_pytorch import EfficientNet\n",
    "\n",
    "model = EfficientNet.from_pretrained('efficientnet-b1', num_classes=4) \n",
    "\n",
    "model = model.to(device)"
   ]
  },
  {
   "cell_type": "code",
   "execution_count": 11,
   "id": "1f79f827-69b4-43e2-b7ea-29ae8c7d4705",
   "metadata": {},
   "outputs": [],
   "source": [
    "import torch.nn as nn\n",
    "\n",
    "criterion = nn.CrossEntropyLoss()\n",
    "\n",
    "optimizer = torch.optim.AdamW(model.parameters(), lr=0.00006, weight_decay=0.0001)"
   ]
  },
  {
   "cell_type": "code",
   "execution_count": 12,
   "id": "699917e7-cc30-4574-95e3-3c780b6723e5",
   "metadata": {},
   "outputs": [],
   "source": [
    "# get_cosine_schedule_with_warmup: decreases learning rate on cosine schedule\n",
    "from transformers import get_cosine_schedule_with_warmup\n",
    "\n",
    "epochs = 39\n",
    "\n",
    "# scheduler setting\n",
    "# optimizer: torch.optim.AdamW\n",
    "# num_warmup_steps: number of steps to increase the learning rate(lr) gradually to the value we set before\n",
    "# num_training_steps: total number of steps to training = batches * epochs\n",
    "scheduler = get_cosine_schedule_with_warmup(optimizer,\n",
    "                                           num_warmup_steps=len(loader_train)*3,\n",
    "                                           num_training_steps=len(loader_train)*epochs)"
   ]
  },
  {
   "cell_type": "code",
   "execution_count": 23,
   "id": "9db84203-5efe-4002-9ac6-34ff2f98b2cc",
   "metadata": {},
   "outputs": [
    {
     "data": {
      "application/vnd.jupyter.widget-view+json": {
       "model_id": "2f7c851aa428416a8a130a7721d708fb",
       "version_major": 2,
       "version_minor": 0
      },
      "text/plain": [
       "  0%|          | 0/329 [00:00<?, ?it/s]"
      ]
     },
     "metadata": {},
     "output_type": "display_data"
    },
    {
     "name": "stdout",
     "output_type": "stream",
     "text": [
      "epoch [1/39] - train loss : 1.3929\n",
      "epoch [1/39] - valid loss : 1.3943 / valid ROC AUC : 0.5187\n"
     ]
    },
    {
     "data": {
      "application/vnd.jupyter.widget-view+json": {
       "model_id": "282134675285468fbb14457d743a8503",
       "version_major": 2,
       "version_minor": 0
      },
      "text/plain": [
       "  0%|          | 0/329 [00:00<?, ?it/s]"
      ]
     },
     "metadata": {},
     "output_type": "display_data"
    },
    {
     "name": "stdout",
     "output_type": "stream",
     "text": [
      "epoch [2/39] - train loss : 1.3907\n",
      "epoch [2/39] - valid loss : 1.3957 / valid ROC AUC : 0.5104\n"
     ]
    },
    {
     "data": {
      "application/vnd.jupyter.widget-view+json": {
       "model_id": "2f4e36d5f76d43df9849c677d81efd47",
       "version_major": 2,
       "version_minor": 0
      },
      "text/plain": [
       "  0%|          | 0/329 [00:00<?, ?it/s]"
      ]
     },
     "metadata": {},
     "output_type": "display_data"
    },
    {
     "name": "stdout",
     "output_type": "stream",
     "text": [
      "epoch [3/39] - train loss : 1.3933\n",
      "epoch [3/39] - valid loss : 1.3961 / valid ROC AUC : 0.5139\n"
     ]
    },
    {
     "data": {
      "application/vnd.jupyter.widget-view+json": {
       "model_id": "02197abf4f344c7d96ec029cd4f80a54",
       "version_major": 2,
       "version_minor": 0
      },
      "text/plain": [
       "  0%|          | 0/329 [00:00<?, ?it/s]"
      ]
     },
     "metadata": {},
     "output_type": "display_data"
    },
    {
     "ename": "KeyboardInterrupt",
     "evalue": "",
     "output_type": "error",
     "traceback": [
      "\u001b[0;31m---------------------------------------------------------------------------\u001b[0m",
      "\u001b[0;31mKeyboardInterrupt\u001b[0m                         Traceback (most recent call last)",
      "Cell \u001b[0;32mIn[23], line 18\u001b[0m\n\u001b[1;32m     15\u001b[0m outputs \u001b[38;5;241m=\u001b[39m model(images) \u001b[38;5;66;03m# deliver batch of images to the model and get outputs\u001b[39;00m\n\u001b[1;32m     16\u001b[0m loss \u001b[38;5;241m=\u001b[39m criterion(outputs, labels) \u001b[38;5;66;03m# calculate the loss\u001b[39;00m\n\u001b[0;32m---> 18\u001b[0m epoch_train_loss \u001b[38;5;241m+\u001b[39m\u001b[38;5;241m=\u001b[39m \u001b[43mloss\u001b[49m\u001b[38;5;241;43m.\u001b[39;49m\u001b[43mitem\u001b[49m\u001b[43m(\u001b[49m\u001b[43m)\u001b[49m \n\u001b[1;32m     19\u001b[0m loss\u001b[38;5;241m.\u001b[39mbackward() \u001b[38;5;66;03m# backpropagation\u001b[39;00m\n\u001b[1;32m     20\u001b[0m optimizer\u001b[38;5;241m.\u001b[39mstep() \u001b[38;5;66;03m# update weights\u001b[39;00m\n",
      "\u001b[0;31mKeyboardInterrupt\u001b[0m: "
     ]
    }
   ],
   "source": [
    "from sklearn.metrics import roc_auc_score, accuracy_score\n",
    "from tqdm.notebook import tqdm\n",
    "\n",
    "for epoch in range(epochs):\n",
    "    # == [ train phase ] ==============================================\n",
    "    model.train()        \n",
    "    epoch_train_loss = 0 \n",
    "    \n",
    "    for images, labels in tqdm(loader_train):\n",
    "        \n",
    "        images = images.to(device)\n",
    "        labels = labels.to(device)\n",
    "        \n",
    "        optimizer.zero_grad() # reset weights of the model in optimizer\n",
    "        outputs = model(images) # deliver batch of images to the model and get outputs\n",
    "        loss = criterion(outputs, labels) # calculate the loss\n",
    "        \n",
    "        epoch_train_loss += loss.item() \n",
    "        loss.backward() # backpropagation\n",
    "        optimizer.step() # update weights\n",
    "        scheduler.step() # update scheduler\n",
    "    \n",
    "    print(f'epoch [{epoch+1}/{epochs}] - train loss : {epoch_train_loss/len(loader_train):.4f}')\n",
    "    \n",
    "    # == [ validation phase ] ==============================================\n",
    "    model.eval() # set the model to evaluation mode\n",
    "    epoch_valid_loss = 0  \n",
    "    preds_list = []       \n",
    "    true_onehot_list = [] \n",
    "    \n",
    "    # fix weights\n",
    "    with torch.no_grad(): \n",
    "        \n",
    "        for images, labels in loader_valid:\n",
    "            images = images.to(device)\n",
    "            labels = labels.to(device)\n",
    "            \n",
    "            outputs = model(images)\n",
    "            loss = criterion(outputs, labels)\n",
    "            epoch_valid_loss += loss.item()\n",
    "            \n",
    "            preds = torch.softmax(outputs.cpu(), dim=1).numpy() # prediction\n",
    "            \n",
    "            true_onehot = torch.eye(4)[labels.cpu()].numpy()  \n",
    "            \n",
    "            preds_list.extend(preds)\n",
    "            true_onehot_list.extend(true_onehot)\n",
    "    \n",
    "    print(f'epoch [{epoch+1}/{epochs}] - valid loss : {epoch_valid_loss/len(loader_valid):.4f} / valid ROC AUC : {roc_auc_score(true_onehot_list, preds_list):.4f}')\n",
    "    torch.save(model, 'train3/' + str(epoch))\n",
    "    "
   ]
  },
  {
   "cell_type": "code",
   "execution_count": 25,
   "id": "a33f8dbc-1b2d-4730-a0e9-1c373a927420",
   "metadata": {},
   "outputs": [],
   "source": [
    "# Original Test Data\n",
    "\n",
    "dataset_test = ImageDataset(test2, img_dir=img_dir, transform=transform_test)\n",
    "loader_test = DataLoader(dataset_test, batch_size=batch_size, \n",
    "                         shuffle=False, worker_init_fn=seed_worker,\n",
    "                         generator=g, num_workers=2)\n",
    "\n",
    "# Test-Time Augmentation\n",
    "dataset_TTA = ImageDataset(test, img_dir=img_dir,\n",
    "                          transform=transform_train, is_test=True)\n",
    "loader_TTA = DataLoader(dataset_TTA, batch_size=batch_size,\n",
    "                       shuffle=False, worker_init_fn=seed_worker,\n",
    "                       generator=g, num_workers=2)"
   ]
  },
  {
   "cell_type": "code",
   "execution_count": 28,
   "id": "598b30f3-96de-4332-97a1-8aa4ff88d589",
   "metadata": {},
   "outputs": [
    {
     "data": {
      "application/vnd.jupyter.widget-view+json": {
       "model_id": "a94cb60297734f63921e3f2d5cf457ee",
       "version_major": 2,
       "version_minor": 0
      },
      "text/plain": [
       "  0%|          | 0/69 [00:00<?, ?it/s]"
      ]
     },
     "metadata": {},
     "output_type": "display_data"
    },
    {
     "name": "stdout",
     "output_type": "stream",
     "text": [
      "epoch [4/39] - Test loss : 2.1110 / Test ROC AUC : 0.9152\n"
     ]
    }
   ],
   "source": [
    "# Original Test Data\n",
    "\n",
    "from sklearn.metrics import accuracy_score\n",
    "model_t = torch.load('train2/5', weights_only=False)\n",
    "model_t.eval() \n",
    "\n",
    "preds_test = np.zeros((len(test), 4)) \n",
    "\n",
    "with torch.no_grad(): \n",
    "        \n",
    "    for images, labels in tqdm(loader_test):\n",
    "        images = images.to(device)\n",
    "        labels = labels.to(device)\n",
    "            \n",
    "        outputs = model_t(images)\n",
    "        loss = criterion(outputs, labels)\n",
    "        epoch_valid_loss += loss.item()\n",
    "            \n",
    "        preds = torch.softmax(outputs.cpu(), dim=1).numpy() # prediction\n",
    "            \n",
    "        true_onehot = torch.eye(4)[labels.cpu()].numpy()  \n",
    "            \n",
    "        preds_list.extend(preds)\n",
    "        true_onehot_list.extend(true_onehot)\n",
    "    \n",
    "print(f'epoch [{epoch+1}/{epochs}] - Test loss : {epoch_valid_loss/len(loader_valid):.4f} / Test ROC AUC : {roc_auc_score(true_onehot_list, preds_list):.4f}')\n",
    "#print(\"Accuracy : \", str(accuracy_score(true_onehot_list, preds_list)))"
   ]
  },
  {
   "cell_type": "code",
   "execution_count": null,
   "id": "21dce3f9-4572-4e50-be33-80f00f4167ca",
   "metadata": {},
   "outputs": [],
   "source": []
  }
 ],
 "metadata": {
  "kernelspec": {
   "display_name": "Python 3 (ipykernel)",
   "language": "python",
   "name": "python3"
  },
  "language_info": {
   "codemirror_mode": {
    "name": "ipython",
    "version": 3
   },
   "file_extension": ".py",
   "mimetype": "text/x-python",
   "name": "python",
   "nbconvert_exporter": "python",
   "pygments_lexer": "ipython3",
   "version": "3.8.18"
  }
 },
 "nbformat": 4,
 "nbformat_minor": 5
}
